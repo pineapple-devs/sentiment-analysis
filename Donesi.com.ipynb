{
 "cells": [
  {
   "cell_type": "markdown",
   "metadata": {},
   "source": [
    "# Sentiment Analysis of Donesi.com Reviews"
   ]
  },
  {
   "cell_type": "markdown",
   "metadata": {},
   "source": [
    "## Introduction"
   ]
  },
  {
   "cell_type": "markdown",
   "metadata": {},
   "source": [
    "<b>Donesi.com</b> is free online service for food ordering. Restaurants are connected to the Internet and they can accept and answer orders from this service. All prices listed on <a href=\"www.donesi.com\">Donesi.com</a> are the same or lower as in participating restaurants. <br /><br />\n",
    "<img src=\"http://www.donesi.com/images/logo.png\"><br />\n",
    "This service is connected with restaurants from these cities:\n",
    "<ol>\n",
    "    <li>\n",
    "    <b>Serbia</b> (10): Belgrade, Novi Sad, Niš, Subotica, Pančevo, Zrenjanin, Kragujevac, Kruševac, Kraljevo and Čačak.\n",
    "    </li><br />\n",
    "    <li>\n",
    "    <b>Bosnia and Herzegovina</b> (8): Sarajevo, Banja Luka, Bijeljina, Brčko, Prijedor, Zenica, Tuzla and Mostar.\n",
    "    </li><br />\n",
    "    <li>\n",
    "    <b>Montenegro</b> (8): Podgorica, Bar, Budva, Kotor, Tivat, Herceg Novi, Nikšić and Bijelo Polje.\n",
    "    </li><br />\n",
    "</ol>"
   ]
  },
  {
   "cell_type": "markdown",
   "metadata": {},
   "source": [
    "## Exploratory Data Analysis"
   ]
  },
  {
   "cell_type": "markdown",
   "metadata": {},
   "source": [
    "After getting permission from Donesi.com maintainers, the website was <a href=\"https://github.com/vdragan1993/sentiment-analysis/blob/master/src/crawler.py\">crawled</a>. Initially, 65748 reviews were collected, including restaurant and user data. \n",
    "<br />\n",
    "First step after data acquisition was removing non-ascii characters. Therefore, next steps were done:\n",
    "<ul>\n",
    "    <li>\n",
    "    Cyrillic reviews were removed\n",
    "    </li><br />\n",
    "    <li>\n",
    "    Serbian Latin characters were converted into the corresponding replacements (e.g. Č -> Ch, Đ -> dj)\n",
    "    </li><br />\n",
    "    <li>\n",
    "    Other reviews with non-ASCII characters were removed.\n",
    "    </li><br />\n",
    "</ul>\n",
    "After finishing the task above, empty reviews(empty review title and empty review content) were also removed. Result of this data preprocessing are shown in the table below."
   ]
  },
  {
   "cell_type": "code",
   "execution_count": 11,
   "metadata": {
    "collapsed": false
   },
   "outputs": [
    {
     "data": {
      "text/html": [
       "<div>\n",
       "<table border=\"1\" class=\"dataframe\">\n",
       "  <thead>\n",
       "    <tr style=\"text-align: right;\">\n",
       "      <th></th>\n",
       "      <th>Country</th>\n",
       "      <th>Crawled</th>\n",
       "      <th>Filtered</th>\n",
       "      <th>Lost</th>\n",
       "    </tr>\n",
       "  </thead>\n",
       "  <tbody>\n",
       "    <tr>\n",
       "      <th>0</th>\n",
       "      <td>Bosnia and Herzegovina</td>\n",
       "      <td>5231</td>\n",
       "      <td>4992</td>\n",
       "      <td>239 (4.5%)</td>\n",
       "    </tr>\n",
       "    <tr>\n",
       "      <th>1</th>\n",
       "      <td>Montenegro</td>\n",
       "      <td>2227</td>\n",
       "      <td>2188</td>\n",
       "      <td>39 (1.75%)</td>\n",
       "    </tr>\n",
       "    <tr>\n",
       "      <th>2</th>\n",
       "      <td>Serbia</td>\n",
       "      <td>58290</td>\n",
       "      <td>57784</td>\n",
       "      <td>506 (0.8%)</td>\n",
       "    </tr>\n",
       "    <tr>\n",
       "      <th>3</th>\n",
       "      <td>Total</td>\n",
       "      <td>65748</td>\n",
       "      <td>64964</td>\n",
       "      <td>784 (1.2%)</td>\n",
       "    </tr>\n",
       "  </tbody>\n",
       "</table>\n",
       "</div>"
      ],
      "text/plain": [
       "                  Country  Crawled   Filtered         Lost\n",
       "0  Bosnia and Herzegovina     5231       4992   239 (4.5%)\n",
       "1              Montenegro     2227       2188   39 (1.75%)\n",
       "2                  Serbia    58290      57784   506 (0.8%)\n",
       "3                   Total    65748      64964   784 (1.2%)"
      ]
     },
     "execution_count": 11,
     "metadata": {},
     "output_type": "execute_result"
    }
   ],
   "source": [
    "import pandas as pd\n",
    "import numpy as np\n",
    "import matplotlib.pyplot as plt\n",
    "%matplotlib inline\n",
    "\n",
    "# reading count file and printing table\n",
    "count = pd.read_csv(\"data/count.csv\")\n",
    "count.head()"
   ]
  },
  {
   "cell_type": "markdown",
   "metadata": {},
   "source": [
    "As we can see in the table above, reviews are split into groups based on the country. There's no significant data loss after preprocessing. All further analysis will be based on the filtered data.<hr /> \n",
    "Next steps:\n",
    "<ul>\n",
    "    <li>calculate average rating</li><br />\n",
    "    <li>calculate average review title length</li><br />\n",
    "    <li>calculate average review content length.</li><br />\n",
    "    <li>check reviews distribution based on rating range, from 1 to 5</li><br />\n",
    "</ul>"
   ]
  },
  {
   "cell_type": "code",
   "execution_count": 43,
   "metadata": {
    "collapsed": false
   },
   "outputs": [],
   "source": [
    "from openpyxl import load_workbook\n",
    "\n",
    "def get_ratings_statistics(file_name, color_name):\n",
    "    title_len = 0\n",
    "    content_len = 0\n",
    "    total_rating = 0\n",
    "    total_count = 0\n",
    "    ratings_distribution = {1:0, 2:0, 3:0, 4:0, 5:0}\n",
    "    # reading from total filtered ratings \n",
    "    wb = load_workbook(filename=file_name)\n",
    "    ws = wb['Sheet1']\n",
    "    index = 0\n",
    "    for row in ws.rows:\n",
    "        index += 1\n",
    "        if index > 1: # skipping header\n",
    "            rating = float(row[6].value)\n",
    "            title_len += len(row[4].value)\n",
    "            content_len += len(row[5].value)\n",
    "            total_rating += rating\n",
    "            total_count += 1\n",
    "            # assign to appropriate rating range\n",
    "            if 0.0 <= rating < 1.5:\n",
    "                ratings_distribution[1] += 1\n",
    "            elif 1.5 <= rating < 2.5:\n",
    "                ratings_distribution[2] += 1\n",
    "            elif 2.5 <= rating < 3.5:\n",
    "                ratings_distribution[3] += 1\n",
    "            elif 3.5 <= rating < 4.5:\n",
    "                ratings_distribution[4] += 1\n",
    "            else:\n",
    "                ratings_distribution[5] += 1\n",
    "    \n",
    "    # calculating averages \n",
    "    print(\"\\nAverage review rating is: {}\".format(round(total_rating/total_count, 2)))\n",
    "    print(\"Average review title length is: {}\".format(round(title_len/total_count, 2)))\n",
    "    print(\"Average review content length is: {}\".format(round(content_len/total_count, 2)))\n",
    "    \n",
    "    # plot\n",
    "    print(\"\\nRatings distribution: \")\n",
    "    plt.bar(range(len(ratings_distribution)), ratings_distribution.values(), align='center', color=color_name)\n",
    "    plt.xticks(range(len(ratings_distribution)), ratings_distribution.keys(), rotation=25)"
   ]
  },
  {
   "cell_type": "markdown",
   "metadata": {},
   "source": [
    "#### Ratings statistics for every country"
   ]
  },
  {
   "cell_type": "code",
   "execution_count": 44,
   "metadata": {
    "collapsed": false
   },
   "outputs": [
    {
     "name": "stdout",
     "output_type": "stream",
     "text": [
      "Ratings statistics for Bosnia and Herzegovina: \n",
      "\n",
      "Average review rating is: 4.24\n",
      "Average review title length is: 12.01\n",
      "Average review content length is: 80.52\n",
      "\n",
      "Ratings distribution: \n"
     ]
    },
    {
     "data": {
      "image/png": "[encoded data removed]",
      "text/plain": [
       "<matplotlib.figure.Figure at 0x8fdc0d0>"
      ]
     },
     "metadata": {},
     "output_type": "display_data"
    }
   ],
   "source": [
    "print (\"Ratings statistics for Bosnia and Herzegovina: \")\n",
    "get_ratings_statistics(\"data/filtered/fbih.xlsx\", \"green\")"
   ]
  },
  {
   "cell_type": "code",
   "execution_count": 45,
   "metadata": {
    "collapsed": false
   },
   "outputs": [
    {
     "name": "stdout",
     "output_type": "stream",
     "text": [
      "Ratings statistics for Montenegro: \n",
      "\n",
      "Average review rating is: 4.2\n",
      "Average review title length is: 12.31\n",
      "Average review content length is: 79.7\n",
      "\n",
      "Ratings distribution: \n"
     ]
    },
    {
     "data": {
      "image/png": "[encoded data removed]",
      "text/plain": [
       "<matplotlib.figure.Figure at 0x168e2ff0>"
      ]
     },
     "metadata": {},
     "output_type": "display_data"
    }
   ],
   "source": [
    "print (\"Ratings statistics for Montenegro: \")\n",
    "get_ratings_statistics(\"data/filtered/fcg.xlsx\", \"red\")"
   ]
  },
  {
   "cell_type": "code",
   "execution_count": 46,
   "metadata": {
    "collapsed": false
   },
   "outputs": [
    {
     "name": "stdout",
     "output_type": "stream",
     "text": [
      "Ratings statistics for Serbia: \n",
      "\n",
      "Average review rating is: 4.13\n",
      "Average review title length is: 13.95\n",
      "Average review content length is: 188.75\n",
      "\n",
      "Ratings distribution: \n"
     ]
    },
    {
     "data": {
      "image/png": "[encoded data removed]",
      "text/plain": [
       "<matplotlib.figure.Figure at 0x187173d0>"
      ]
     },
     "metadata": {},
     "output_type": "display_data"
    }
   ],
   "source": [
    "print (\"Ratings statistics for Serbia: \")\n",
    "get_ratings_statistics(\"data/filtered/fsrb.xlsx\", \"blue\")"
   ]
  },
  {
   "cell_type": "markdown",
   "metadata": {},
   "source": [
    "#### Total ratings statistics"
   ]
  },
  {
   "cell_type": "code",
   "execution_count": 47,
   "metadata": {
    "collapsed": false
   },
   "outputs": [
    {
     "name": "stdout",
     "output_type": "stream",
     "text": [
      "Ratings statistics for all reviews: \n",
      "\n",
      "Average review rating is: 4.14\n",
      "Average review title length is: 13.74\n",
      "Average review content length is: 176.76\n",
      "\n",
      "Ratings distribution: \n"
     ]
    },
    {
     "data": {
      "image/png": "[encoded data removed]",
      "text/plain": [
       "<matplotlib.figure.Figure at 0x8fc2bf0>"
      ]
     },
     "metadata": {},
     "output_type": "display_data"
    }
   ],
   "source": [
    "print (\"Ratings statistics for all reviews: \")\n",
    "get_ratings_statistics(\"data/filtered/fall.xlsx\", \"grey\")"
   ]
  },
  {
   "cell_type": "markdown",
   "metadata": {},
   "source": [
    "From statistics above, we can see that there's a significant disproportion between positive and negative reviews. Average rating of reviews is quite high (4.14 of 5). Also, we can conclude that average user from Serbia writes longer review, and rates restaurant with a slightly lower rating."
   ]
  },
  {
   "cell_type": "code",
   "execution_count": null,
   "metadata": {
    "collapsed": true
   },
   "outputs": [],
   "source": []
  }
 ],
 "metadata": {
  "kernelspec": {
   "display_name": "Python 3",
   "language": "python",
   "name": "python3"
  },
  "language_info": {
   "codemirror_mode": {
    "name": "ipython",
    "version": 3
   },
   "file_extension": ".py",
   "mimetype": "text/x-python",
   "name": "python",
   "nbconvert_exporter": "python",
   "pygments_lexer": "ipython3",
   "version": "3.4.0"
  }
 },
 "nbformat": 4,
 "nbformat_minor": 0
}
